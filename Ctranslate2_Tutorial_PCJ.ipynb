{
  "nbformat": 4,
  "nbformat_minor": 0,
  "metadata": {
    "colab": {
      "name": "Ctranslate2 Tutorial_PCJ.ipynb",
      "provenance": [],
      "collapsed_sections": []
    },
    "kernelspec": {
      "name": "python3",
      "display_name": "Python 3"
    }
  },
  "cells": [
    {
      "cell_type": "markdown",
      "metadata": {
        "id": "MMsehmtN2Nw6",
        "colab_type": "text"
      },
      "source": [
        "제작자: 박찬준 <br>\n",
        "소속: 고려대학교 자연어처리 & 인공지능 연구실 <br>\n",
        "이메일: bcj1210@naver.com <br>\n",
        "CV: https://parkchanjun.github.io/<br>"
      ]
    },
    {
      "cell_type": "markdown",
      "metadata": {
        "id": "5McpoOqV2dGE",
        "colab_type": "text"
      },
      "source": [
        "Ctranslate2란? ==> 기업에서는 속도가 생명이다 ! Transformer 모델의 인코더와 디코더를 C++로 개발하여 이를 API 형태로 서비스까지 해줄 수 있게 해주는 오픈소스<br> \n",
        "\n",
        "***OpenNMT pytorch와 Tensorflow 모두 Transformer 모델까지 지원*** <br>\n",
        "***먼저 OpenNMT pytorch와 Tensorflow 사용법 부터 숙지하시는 것을 추천 드림***\n",
        "<br>\n",
        "\n",
        "OpenNMT Tutorial: https://github.com/Parkchanjun/OpenNMT-Colab-Tutorial <br><br>\n",
        "\n",
        "특징은 다음과 같음 <br>\n",
        "\n",
        "**Fast execution**\n",
        "The execution aims to be faster than a general purpose deep learning framework: on standard translation tasks, it is up to 4x faster than OpenNMT-py.<br><br>\n",
        "**Model quantization**\n",
        "Support INT16 quantization on CPU and INT8 quantization (experimental) on CPU and GPU.<br><br>\n",
        "**Parallel translation**\n",
        "Translations can be run efficiently in parallel without duplicating the model data in memory.<br><br>\n",
        "**Dynamic memory usage**\n",
        "The memory usage changes dynamically depending on the request size while still meeting performance requirements thanks to caching allocators on both CPU and GPU.<br><br>\n",
        "**Automatic instruction set dispatch**\n",
        "When using Intel MKL, the dispatch to the optimal instruction set is done at runtime.<br><br>\n",
        "**Ligthweight on disk**\n",
        "Models can be quantized below 100MB with minimal accuracy loss. A full featured Docker image supporting GPU and CPU requires less than 1GB.<br><br>\n",
        "**Easy to use translation APIs**\n",
        "The project exposes translation APIs in Python and C++ to cover most integration needs.<br><br>"
      ]
    },
    {
      "cell_type": "markdown",
      "metadata": {
        "id": "tjRh8-8q20hc",
        "colab_type": "text"
      },
      "source": [
        "**1단계 : pip를 이용한 환경설정**"
      ]
    },
    {
      "cell_type": "code",
      "metadata": {
        "id": "vj5o9WV-2JR3",
        "colab_type": "code",
        "colab": {}
      },
      "source": [
        "!pip install ctranslate2"
      ],
      "execution_count": 0,
      "outputs": []
    },
    {
      "cell_type": "markdown",
      "metadata": {
        "id": "NUt14UI33Yfv",
        "colab_type": "text"
      },
      "source": [
        "**2단계: 튜토리얼용 모델 다운받기<br>**\n",
        "본 튜토리얼에서는 Ctranslate2가 제공하는 데모 모델을 사용할 것이나 실제로는 직접 OpenNMT Pytorch로 나온 모델을 사용해야 할 것임."
      ]
    },
    {
      "cell_type": "code",
      "metadata": {
        "id": "8mmUkaOA20K_",
        "colab_type": "code",
        "colab": {}
      },
      "source": [
        "!wget https://s3.amazonaws.com/opennmt-models/transformer-ende-wmt-pyOnmt.tar.gz\n",
        "!tar xf transformer-ende-wmt-pyOnmt.tar.gz"
      ],
      "execution_count": 0,
      "outputs": []
    },
    {
      "cell_type": "markdown",
      "metadata": {
        "id": "muokTI4b3yez",
        "colab_type": "text"
      },
      "source": [
        "**3단계: 모델을 Ctranslate2가 사용할 수 있는 형태로 변환하기**"
      ]
    },
    {
      "cell_type": "code",
      "metadata": {
        "id": "cadyJAqB34Y7",
        "colab_type": "code",
        "colab": {}
      },
      "source": [
        "!ct2-opennmt-py-converter --model_path averaged-10-epoch.pt --model_spec TransformerBase \\\n",
        "    --output_dir ende_ctranslate2"
      ],
      "execution_count": 0,
      "outputs": []
    },
    {
      "cell_type": "markdown",
      "metadata": {
        "id": "LI2vVbW54C6c",
        "colab_type": "text"
      },
      "source": [
        "ende_ctranslate2 경로에 bin파일과 vocab파일이 생성된 것을 확인할 수 있다.<br>\n",
        "위 예시는 OpenNMT-pytorch 기준이다.<br>\n",
        "\n",
        "OpenNMT Tensorflow는 아래와 같이 실행하면 된다.\n",
        "\n",
        "ct2-opennmt-tf-converter --model_path averaged-ende-export500k-v2 --model_spec TransformerBase \\\n",
        "    --output_dir ende_ctranslate2"
      ]
    },
    {
      "cell_type": "markdown",
      "metadata": {
        "id": "-srLgYwv4mHS",
        "colab_type": "text"
      },
      "source": [
        "**4단계: 번역하기 - Python API**"
      ]
    },
    {
      "cell_type": "code",
      "metadata": {
        "id": "SOVLRDkZ4lRA",
        "colab_type": "code",
        "colab": {
          "base_uri": "https://localhost:8080/",
          "height": 104
        },
        "outputId": "c3455a62-5d6c-495a-cedf-fa1bfc23d5a0"
      },
      "source": [
        "!pip install sentencepiece #sentencepiece 설치하기\n",
        "\n",
        "import ctranslate2\n",
        "import sentencepiece as spm\n",
        "\n",
        "translator = ctranslate2.Translator(\"ende_ctranslate2/\")\n",
        "\n",
        "sp = spm.SentencePieceProcessor()\n",
        "sp.Load(\"sentencepiece.model\") #모델 로드하기 \n",
        "\n",
        "sents=[\"Hello world!\",\"hi my name is park\",\"I want chocolate\"] #예시 문장\n",
        "\n",
        "final_outputs=[] #최종 번역 내용 담을 리스트\n",
        "\n",
        "for sent in sents:\n",
        "  pieces = sp.EncodeAsPieces(sent)\n",
        "  outputs = translator.translate_batch([pieces])#번역 진행\n",
        "  final_output=\" \".join(outputs[0][0]['tokens']).replace(\"▁\",\"\") #후처리\n",
        "  final_outputs.append(final_output)\n",
        "  print(\" \".join(outputs[0][0]['tokens']).replace(\"▁\",\"\"))\n",
        "  \n",
        "print(final_outputs)"
      ],
      "execution_count": 25,
      "outputs": [
        {
          "output_type": "stream",
          "text": [
            "Requirement already satisfied: sentencepiece in /usr/local/lib/python3.6/dist-packages (0.1.85)\n",
            "Hallo Welt !\n",
            "Hi mein Name Park ist\n",
            "Ich will Schokolade machen\n",
            "['Hallo Welt !', 'Hi mein Name Park ist', 'Ich will Schokolade machen']\n"
          ],
          "name": "stdout"
        }
      ]
    },
    {
      "cell_type": "markdown",
      "metadata": {
        "id": "_jE3NLp94sLT",
        "colab_type": "text"
      },
      "source": [
        "파이썬 API 형태로 번역하는 예시이며 translator.translate_batch 에 번역할 문장을 넣어주면 된다.\n",
        "\n"
      ]
    },
    {
      "cell_type": "markdown",
      "metadata": {
        "id": "45XsTh2r41w0",
        "colab_type": "text"
      },
      "source": [
        "**4단계: 번역하기 - C++ API**"
      ]
    },
    {
      "cell_type": "code",
      "metadata": {
        "id": "rk75m-hj41Mk",
        "colab_type": "code",
        "colab": {}
      },
      "source": [
        "#include <iostream>\n",
        "#include <ctranslate2/translator.h>\n",
        "\n",
        "int main() {\n",
        "  ctranslate2::Translator translator(\"ende_ctranslate2/\");\n",
        "  ctranslate2::TranslationResult result = translator.translate({\"▁H\", \"ello\", \"▁world\", \"!\"});\n",
        "\n",
        "  for (const auto& token : result.output())\n",
        "    std::cout << token << ' ';\n",
        "  std::cout << std::endl;\n",
        "  return 0;\n",
        "}"
      ],
      "execution_count": 0,
      "outputs": []
    },
    {
      "cell_type": "markdown",
      "metadata": {
        "id": "FqgJpm234-KK",
        "colab_type": "text"
      },
      "source": [
        "C++로 번역하는 예제는 위와 같다. translator.translate에 번역할 문장을 넣어주면 된다."
      ]
    }
  ]
}